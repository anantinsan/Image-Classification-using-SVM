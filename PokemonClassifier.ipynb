{
 "cells": [
  {
   "cell_type": "code",
   "execution_count": 199,
   "id": "f483d15a",
   "metadata": {},
   "outputs": [],
   "source": [
    "import numpy as np\n",
    "import pandas as pd\n",
    "from tensorflow.keras.preprocessing import image\n",
    "from pathlib import Path\n",
    "import matplotlib.pyplot as plt\n",
    "import random"
   ]
  },
  {
   "cell_type": "code",
   "execution_count": 200,
   "id": "b1718e02",
   "metadata": {},
   "outputs": [],
   "source": [
    "train_df = pd.read_csv(\"Downloads/pokemon Classification/train.csv\")"
   ]
  },
  {
   "cell_type": "code",
   "execution_count": 201,
   "id": "96ab7edd",
   "metadata": {},
   "outputs": [],
   "source": [
    "labelOf = {}\n",
    "names = train_df.iloc[:,0]\n",
    "labels = train_df.iloc[:,1]\n",
    "for i in range(len(names)):\n",
    "    labelOf[names[i]] = labels[i]"
   ]
  },
  {
   "cell_type": "code",
   "execution_count": 202,
   "id": "59c375ac",
   "metadata": {},
   "outputs": [
    {
     "name": "stderr",
     "output_type": "stream",
     "text": [
      "C:\\Users\\anant\\anaconda3\\lib\\site-packages\\PIL\\Image.py:975: UserWarning: Palette images with Transparency expressed in bytes should be converted to RGBA images\n",
      "  warnings.warn(\n"
     ]
    }
   ],
   "source": [
    "p = Path(\"Downloads/pokemon Classification/Images_train\")\n",
    "all_images = p.glob(\"*jpg\")\n",
    "# Now we have path of all images\n",
    "# We'll use keras image to get image data from path\n",
    "# convert that to an array\n",
    "# store it in image data list\n",
    "# convert that list in array (later)\n",
    "images_data = []\n",
    "labels_data = []\n",
    "for i in all_images:\n",
    "    name = str(i).split('\\\\')[-1]\n",
    "    img = image.load_img(path=i, target_size=(32,32))\n",
    "    img_array = image.img_to_array(img)\n",
    "    images_data.append(img_array)\n",
    "    labels_data.append(labelOf[name])"
   ]
  },
  {
   "cell_type": "code",
   "execution_count": 203,
   "id": "1edadfaf",
   "metadata": {},
   "outputs": [],
   "source": [
    "images_data = np.array(images_data, dtype='float32')/255.0\n",
    "labels_data = np.array(labels_data)"
   ]
  },
  {
   "cell_type": "code",
   "execution_count": 204,
   "id": "083a3f03",
   "metadata": {},
   "outputs": [
    {
     "data": {
      "text/plain": [
       "(304, 32, 32, 3)"
      ]
     },
     "execution_count": 204,
     "metadata": {},
     "output_type": "execute_result"
    }
   ],
   "source": [
    "images_data.shape"
   ]
  },
  {
   "cell_type": "code",
   "execution_count": 205,
   "id": "b8792256",
   "metadata": {},
   "outputs": [
    {
     "name": "stdout",
     "output_type": "stream",
     "text": [
      "(304, 3072)\n"
     ]
    }
   ],
   "source": [
    "#Reshape Images\n",
    "images_data = images_data.reshape((images_data.shape[0], -1))\n",
    "print(images_data.shape)"
   ]
  },
  {
   "cell_type": "code",
   "execution_count": 206,
   "id": "c2b2e004",
   "metadata": {},
   "outputs": [],
   "source": [
    "#Shuffle\n",
    "combined = list(zip(images_data, labels_data))\n",
    "random.shuffle(combined)\n",
    "images_data[:], labels_data[:] = zip(*combined)"
   ]
  },
  {
   "cell_type": "code",
   "execution_count": 207,
   "id": "5b7fa8e7",
   "metadata": {},
   "outputs": [],
   "source": [
    "class SVM:\n",
    "    \n",
    "    def __init__(self, C=1.0):\n",
    "        self.C = C\n",
    "        self.W = 0\n",
    "        self.b = 0\n",
    "    \n",
    "    def hingeLoss(self,W,b,X,y):\n",
    "        loss = 0.0\n",
    "        loss += 0.5 * np.dot(W,W.T)\n",
    "        m = X.shape[0]\n",
    "        for i in range(m):\n",
    "            ti = y[i] * (np.dot(W, X[i].T) + b)\n",
    "            loss += self.C * max(0, (1-ti))\n",
    "        return loss[0][0]\n",
    "    \n",
    "    def fit(self,X,y,batch_size=25, learning_rate=0.0001, max_itr=500):\n",
    "        no_of_features = X.shape[1]\n",
    "        no_of_samples = X.shape[0]\n",
    "        n = learning_rate\n",
    "        C = self.C\n",
    "        \n",
    "        # Initializing Model Parameters\n",
    "        W = np.zeros((1,no_of_features))\n",
    "        bias = 0.0\n",
    "        \n",
    "        # Training\n",
    "        losses = []\n",
    "        \n",
    "        for itr in range(max_itr):\n",
    "            \n",
    "            l = self.hingeLoss(W, bias, X, y)\n",
    "            losses.append(l)\n",
    "            ids = np.arange(no_of_samples)\n",
    "            np.random.shuffle(ids)\n",
    "            \n",
    "            for batch_start in range(0, no_of_samples, batch_size):\n",
    "                gradw = 0\n",
    "                gradb = 0\n",
    "                \n",
    "                for j in range(batch_start, batch_start+batch_size):\n",
    "                    if j<no_of_samples:\n",
    "                        i = ids[j]\n",
    "                        ti = y[i] * (np.dot(W,X[i].T)+bias)\n",
    "                        \n",
    "                        if ti > 1:\n",
    "                            gradw += 0\n",
    "                            gradb += 0\n",
    "                        else:\n",
    "                            gradw += C * y[i] * X[i]\n",
    "                            gradb += C * y[i]\n",
    "                W = W - n*W + n*gradw\n",
    "                bias = bias + n*gradb\n",
    "        \n",
    "        self.W = W\n",
    "        self.b = bias\n",
    "        plt.plot(losses)\n",
    "        plt.show\n",
    "        return W, bias, losses \n",
    "    "
   ]
  },
  {
   "cell_type": "code",
   "execution_count": 208,
   "id": "00002404",
   "metadata": {},
   "outputs": [
    {
     "data": {
      "text/plain": [
       "array(['Bulbasaur', 'Charmander', 'Pikachu'], dtype='<U10')"
      ]
     },
     "execution_count": 208,
     "metadata": {},
     "output_type": "execute_result"
    }
   ],
   "source": [
    "CLASSES = (np.unique(labels_data))\n",
    "CLASSES"
   ]
  },
  {
   "cell_type": "code",
   "execution_count": 209,
   "id": "84cd080b",
   "metadata": {},
   "outputs": [],
   "source": [
    "def classwiseData(X, y):\n",
    "    data = {}\n",
    "    for i in CLASSES:\n",
    "        data[i] = []\n",
    "    for i in range(X.shape[0]):\n",
    "        data[y[i]].append(X[i])\n",
    "    for k in CLASSES:\n",
    "        data[k] = np.array(data[k])\n",
    "    return data"
   ]
  },
  {
   "cell_type": "code",
   "execution_count": 210,
   "id": "feac9f5e",
   "metadata": {},
   "outputs": [],
   "source": [
    "data = classwiseData(images_data, labels_data)\n",
    "# print(len(data['Pikachu']))"
   ]
  },
  {
   "cell_type": "code",
   "execution_count": 211,
   "id": "55b6a6fa",
   "metadata": {},
   "outputs": [],
   "source": [
    "# data"
   ]
  },
  {
   "cell_type": "code",
   "execution_count": 212,
   "id": "0993aa11",
   "metadata": {},
   "outputs": [],
   "source": [
    "def getDataPair(d1, d2):\n",
    "    l1 , l2 = d1.shape[0] , d2.shape[0]\n",
    "    features = d1.shape[1]\n",
    "    \n",
    "    data = np.zeros((l1+l2, features))\n",
    "    data[:l1,:] = d1\n",
    "    data[l1:,:] = d2\n",
    "    \n",
    "    data_labels = np.zeros((l1+l2,))\n",
    "    data_labels[:l1] = -1\n",
    "    data_labels[l1:] = 1\n",
    "    \n",
    "    return data, data_labels"
   ]
  },
  {
   "cell_type": "code",
   "execution_count": 213,
   "id": "459fb8ca",
   "metadata": {},
   "outputs": [],
   "source": [
    "mySVM = SVM()"
   ]
  },
  {
   "cell_type": "code",
   "execution_count": 214,
   "id": "9449f661",
   "metadata": {},
   "outputs": [],
   "source": [
    "def trainSVM(X, y):\n",
    "    svm_classifiers = {}\n",
    "    \n",
    "    for i in range(len(CLASSES)):\n",
    "        svm_classifiers[CLASSES[i]] = {}\n",
    "        for j in range(i+1,len(CLASSES)):\n",
    "            c1 = CLASSES[i]\n",
    "            c2 = CLASSES[j]\n",
    "            x_pair, y_pair = getDataPair(data[c1], data[c2])\n",
    "            w, b, l = mySVM.fit(x_pair, y_pair)\n",
    "            svm_classifiers[c1][c2] = w,b\n",
    "    return svm_classifiers"
   ]
  },
  {
   "cell_type": "code",
   "execution_count": 215,
   "id": "5d73e25a",
   "metadata": {},
   "outputs": [
    {
     "data": {
      "image/png": "[encoded data removed]",
      "text/plain": [
       "<Figure size 432x288 with 1 Axes>"
      ]
     },
     "metadata": {
      "needs_background": "light"
     },
     "output_type": "display_data"
    }
   ],
   "source": [
    "svm_classifiers = trainSVM(images_data, labels_data)"
   ]
  },
  {
   "cell_type": "code",
   "execution_count": 216,
   "id": "fca504e3",
   "metadata": {},
   "outputs": [],
   "source": [
    "def binaryPredict(X, W, b):\n",
    "    z = np.dot(X, W.T) + b\n",
    "    if z>=0:\n",
    "        return 1;\n",
    "    else:\n",
    "        return -1"
   ]
  },
  {
   "cell_type": "code",
   "execution_count": 217,
   "id": "dabd4086",
   "metadata": {},
   "outputs": [],
   "source": [
    "def predict(X):\n",
    "    count = np.zeros((len(CLASSES),))\n",
    "    \n",
    "    for i in range(len(CLASSES)):\n",
    "        for j in range(i+1, len(CLASSES)):\n",
    "            c1 = CLASSES[i]\n",
    "            c2 = CLASSES[j]\n",
    "            w, b = svm_classifiers[c1][c2]\n",
    "            if binaryPredict(X, w, b)==1:\n",
    "                count[j] += 1\n",
    "            else:\n",
    "                count[i] += 1\n",
    "    idx = np.argmax(count)\n",
    "    return CLASSES[idx]"
   ]
  },
  {
   "cell_type": "markdown",
   "id": "58edfa20",
   "metadata": {},
   "source": [
    "## Load Test Data"
   ]
  },
  {
   "cell_type": "code",
   "execution_count": 231,
   "id": "f37491a6",
   "metadata": {
    "scrolled": true
   },
   "outputs": [
    {
     "name": "stdout",
     "output_type": "stream",
     "text": [
      "(123, 3072)\n"
     ]
    }
   ],
   "source": [
    "p2 = Path(\"Downloads/pokemon Classification/Images_test\")\n",
    "test_images = p2.glob(\"*jpg\")\n",
    "test_images_data = []\n",
    "test_labels = []\n",
    "for i in test_images:\n",
    "    test_labels.append((str(i).split('\\\\')[-1]))\n",
    "    img = image.load_img(i, target_size=(32,32))\n",
    "    img_array = image.img_to_array(img)\n",
    "    test_images_data.append(img_array)\n",
    "\n",
    "#  Flattening\n",
    "test_images_data = np.array(test_images_data)\n",
    "test_images_data = test_images_data.reshape((test_images_data.shape[0],-1));\n",
    "print(test_images_data.shape)"
   ]
  },
  {
   "cell_type": "code",
   "execution_count": 233,
   "id": "06efe7a3",
   "metadata": {},
   "outputs": [],
   "source": [
    "test_dict = {}\n",
    "for i in range(test_images_data.shape[0]):\n",
    "    test_dict[test_labels[i]] = predict(test_images_data[i])"
   ]
  },
  {
   "cell_type": "code",
   "execution_count": 234,
   "id": "cb2fd5c2",
   "metadata": {},
   "outputs": [],
   "source": [
    "test_df = pd.read_csv(\"Downloads/pokemon Classification/Sample_submission.csv\")"
   ]
  },
  {
   "cell_type": "code",
   "execution_count": 245,
   "id": "2b1abcde",
   "metadata": {},
   "outputs": [
    {
     "data": {
      "text/html": [
       "<div>\n",
       "<style scoped>\n",
       "    .dataframe tbody tr th:only-of-type {\n",
       "        vertical-align: middle;\n",
       "    }\n",
       "\n",
       "    .dataframe tbody tr th {\n",
       "        vertical-align: top;\n",
       "    }\n",
       "\n",
       "    .dataframe thead th {\n",
       "        text-align: right;\n",
       "    }\n",
       "</style>\n",
       "<table border=\"1\" class=\"dataframe\">\n",
       "  <thead>\n",
       "    <tr style=\"text-align: right;\">\n",
       "      <th></th>\n",
       "      <th>ImageId</th>\n",
       "      <th>NameOfPokemon</th>\n",
       "    </tr>\n",
       "  </thead>\n",
       "  <tbody>\n",
       "    <tr>\n",
       "      <th>0</th>\n",
       "      <td>1106.jpg</td>\n",
       "      <td>Pikachu</td>\n",
       "    </tr>\n",
       "    <tr>\n",
       "      <th>1</th>\n",
       "      <td>2236.jpg</td>\n",
       "      <td>Pikachu</td>\n",
       "    </tr>\n",
       "    <tr>\n",
       "      <th>2</th>\n",
       "      <td>1131.jpg</td>\n",
       "      <td>Pikachu</td>\n",
       "    </tr>\n",
       "    <tr>\n",
       "      <th>3</th>\n",
       "      <td>2221.jpg</td>\n",
       "      <td>Pikachu</td>\n",
       "    </tr>\n",
       "    <tr>\n",
       "      <th>4</th>\n",
       "      <td>2011.jpg</td>\n",
       "      <td>Pikachu</td>\n",
       "    </tr>\n",
       "    <tr>\n",
       "      <th>...</th>\n",
       "      <td>...</td>\n",
       "      <td>...</td>\n",
       "    </tr>\n",
       "    <tr>\n",
       "      <th>118</th>\n",
       "      <td>1124.jpg</td>\n",
       "      <td>Pikachu</td>\n",
       "    </tr>\n",
       "    <tr>\n",
       "      <th>119</th>\n",
       "      <td>2014.jpg</td>\n",
       "      <td>Pikachu</td>\n",
       "    </tr>\n",
       "    <tr>\n",
       "      <th>120</th>\n",
       "      <td>2235.jpg</td>\n",
       "      <td>Pikachu</td>\n",
       "    </tr>\n",
       "    <tr>\n",
       "      <th>121</th>\n",
       "      <td>1126.jpg</td>\n",
       "      <td>Pikachu</td>\n",
       "    </tr>\n",
       "    <tr>\n",
       "      <th>122</th>\n",
       "      <td>2021.jpg</td>\n",
       "      <td>Pikachu</td>\n",
       "    </tr>\n",
       "  </tbody>\n",
       "</table>\n",
       "<p>123 rows × 2 columns</p>\n",
       "</div>"
      ],
      "text/plain": [
       "      ImageId NameOfPokemon\n",
       "0    1106.jpg       Pikachu\n",
       "1    2236.jpg       Pikachu\n",
       "2    1131.jpg       Pikachu\n",
       "3    2221.jpg       Pikachu\n",
       "4    2011.jpg       Pikachu\n",
       "..        ...           ...\n",
       "118  1124.jpg       Pikachu\n",
       "119  2014.jpg       Pikachu\n",
       "120  2235.jpg       Pikachu\n",
       "121  1126.jpg       Pikachu\n",
       "122  2021.jpg       Pikachu\n",
       "\n",
       "[123 rows x 2 columns]"
      ]
     },
     "execution_count": 245,
     "metadata": {},
     "output_type": "execute_result"
    }
   ],
   "source": [
    "test_df"
   ]
  },
  {
   "cell_type": "code",
   "execution_count": 246,
   "id": "f69027a2",
   "metadata": {},
   "outputs": [],
   "source": [
    "for i in range(test_df.shape[0]):\n",
    "    name = test_df.loc[i][0]\n",
    "    test_df.loc[i][1] = test_dict[name]"
   ]
  },
  {
   "cell_type": "code",
   "execution_count": 247,
   "id": "d4ff1580",
   "metadata": {},
   "outputs": [
    {
     "data": {
      "text/html": [
       "<div>\n",
       "<style scoped>\n",
       "    .dataframe tbody tr th:only-of-type {\n",
       "        vertical-align: middle;\n",
       "    }\n",
       "\n",
       "    .dataframe tbody tr th {\n",
       "        vertical-align: top;\n",
       "    }\n",
       "\n",
       "    .dataframe thead th {\n",
       "        text-align: right;\n",
       "    }\n",
       "</style>\n",
       "<table border=\"1\" class=\"dataframe\">\n",
       "  <thead>\n",
       "    <tr style=\"text-align: right;\">\n",
       "      <th></th>\n",
       "      <th>ImageId</th>\n",
       "      <th>NameOfPokemon</th>\n",
       "    </tr>\n",
       "  </thead>\n",
       "  <tbody>\n",
       "    <tr>\n",
       "      <th>0</th>\n",
       "      <td>1106.jpg</td>\n",
       "      <td>Bulbasaur</td>\n",
       "    </tr>\n",
       "    <tr>\n",
       "      <th>1</th>\n",
       "      <td>2236.jpg</td>\n",
       "      <td>Charmander</td>\n",
       "    </tr>\n",
       "    <tr>\n",
       "      <th>2</th>\n",
       "      <td>1131.jpg</td>\n",
       "      <td>Bulbasaur</td>\n",
       "    </tr>\n",
       "    <tr>\n",
       "      <th>3</th>\n",
       "      <td>2221.jpg</td>\n",
       "      <td>Pikachu</td>\n",
       "    </tr>\n",
       "    <tr>\n",
       "      <th>4</th>\n",
       "      <td>2011.jpg</td>\n",
       "      <td>Charmander</td>\n",
       "    </tr>\n",
       "    <tr>\n",
       "      <th>...</th>\n",
       "      <td>...</td>\n",
       "      <td>...</td>\n",
       "    </tr>\n",
       "    <tr>\n",
       "      <th>118</th>\n",
       "      <td>1124.jpg</td>\n",
       "      <td>Bulbasaur</td>\n",
       "    </tr>\n",
       "    <tr>\n",
       "      <th>119</th>\n",
       "      <td>2014.jpg</td>\n",
       "      <td>Pikachu</td>\n",
       "    </tr>\n",
       "    <tr>\n",
       "      <th>120</th>\n",
       "      <td>2235.jpg</td>\n",
       "      <td>Charmander</td>\n",
       "    </tr>\n",
       "    <tr>\n",
       "      <th>121</th>\n",
       "      <td>1126.jpg</td>\n",
       "      <td>Bulbasaur</td>\n",
       "    </tr>\n",
       "    <tr>\n",
       "      <th>122</th>\n",
       "      <td>2021.jpg</td>\n",
       "      <td>Charmander</td>\n",
       "    </tr>\n",
       "  </tbody>\n",
       "</table>\n",
       "<p>123 rows × 2 columns</p>\n",
       "</div>"
      ],
      "text/plain": [
       "      ImageId NameOfPokemon\n",
       "0    1106.jpg     Bulbasaur\n",
       "1    2236.jpg    Charmander\n",
       "2    1131.jpg     Bulbasaur\n",
       "3    2221.jpg       Pikachu\n",
       "4    2011.jpg    Charmander\n",
       "..        ...           ...\n",
       "118  1124.jpg     Bulbasaur\n",
       "119  2014.jpg       Pikachu\n",
       "120  2235.jpg    Charmander\n",
       "121  1126.jpg     Bulbasaur\n",
       "122  2021.jpg    Charmander\n",
       "\n",
       "[123 rows x 2 columns]"
      ]
     },
     "execution_count": 247,
     "metadata": {},
     "output_type": "execute_result"
    }
   ],
   "source": [
    "test_df"
   ]
  },
  {
   "cell_type": "code",
   "execution_count": 249,
   "id": "b2c5bd29",
   "metadata": {},
   "outputs": [],
   "source": [
    "test_df.to_csv('pokemon_sub.csv', index=False)"
   ]
  },
  {
   "cell_type": "code",
   "execution_count": null,
   "id": "e4000494",
   "metadata": {},
   "outputs": [],
   "source": []
  },
  {
   "cell_type": "code",
   "execution_count": null,
   "id": "e765e5fb",
   "metadata": {},
   "outputs": [],
   "source": []
  },
  {
   "cell_type": "code",
   "execution_count": null,
   "id": "1f54c99f",
   "metadata": {},
   "outputs": [],
   "source": []
  },
  {
   "cell_type": "code",
   "execution_count": null,
   "id": "d716aeed",
   "metadata": {},
   "outputs": [],
   "source": []
  },
  {
   "cell_type": "code",
   "execution_count": null,
   "id": "60eeaee1",
   "metadata": {},
   "outputs": [],
   "source": []
  },
  {
   "cell_type": "code",
   "execution_count": null,
   "id": "735e1b3d",
   "metadata": {},
   "outputs": [],
   "source": []
  },
  {
   "cell_type": "code",
   "execution_count": null,
   "id": "9e8ba6e8",
   "metadata": {},
   "outputs": [],
   "source": []
  },
  {
   "cell_type": "code",
   "execution_count": null,
   "id": "86bacd80",
   "metadata": {},
   "outputs": [],
   "source": []
  },
  {
   "cell_type": "code",
   "execution_count": null,
   "id": "0396cdae",
   "metadata": {},
   "outputs": [],
   "source": []
  }
 ],
 "metadata": {
  "kernelspec": {
   "display_name": "Python 3 (ipykernel)",
   "language": "python",
   "name": "python3"
  },
  "language_info": {
   "codemirror_mode": {
    "name": "ipython",
    "version": 3
   },
   "file_extension": ".py",
   "mimetype": "text/x-python",
   "name": "python",
   "nbconvert_exporter": "python",
   "pygments_lexer": "ipython3",
   "version": "3.9.7"
  }
 },
 "nbformat": 4,
 "nbformat_minor": 5
}
